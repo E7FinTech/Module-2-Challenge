{
 "cells": [
  {
   "cell_type": "code",
   "execution_count": 39,
   "id": "5e63cec5-4743-4608-ac2f-8f56bdf5e20a",
   "metadata": {},
   "outputs": [
    {
     "name": "stdout",
     "output_type": "stream",
     "text": [
      "Financial Analysis\n",
      "--------------------------------------\n",
      "Total Months: 86\n",
      "Total (Profit_Losses): 100000\n",
      "Average Change:1163\n",
      "Greatest Increase in Profits: 10474 | 1000\n",
      "Greatest Decrease in Profits: 10474 | 100\n"
     ]
    }
   ],
   "source": [
    "# Import Libraries\n",
    "import csv\n",
    "import pandas as pd\n",
    "from pathlib import Path\n",
    "\n",
    "# Create a dataframe using CSV data\n",
    "df = pd.read_csv(\"budget_data.csv\")\n",
    "\n",
    "# Initial Data Exploration: Print to ensure that data loads correctly\n",
    "# print(df)\n",
    "# columns_num=df.shape\n",
    " \n",
    "# Header    \n",
    "print(\"Financial Analysis\")    \n",
    "print(\"--------------------------------------\")    \n",
    "    \n",
    "# Total number of months included in the dataset    \n",
    "rows_num=len(df)\n",
    "print(f\"Total Months: {rows_num}\")\n",
    "\n",
    "\n",
    "# The net total amount of Profit/Losses over the entire period\n",
    "total_profitloss = 100000\n",
    "print(f\"Total (Profit_Losses): {total_profitloss}\")\n",
    "\n",
    "\n",
    "# The average of the changes in Profit/Losses over the entire period\n",
    "avg_change = round(total_profitloss/rows_num)\n",
    "print(f\"Average Change:{avg_change}\")\n",
    "\n",
    "# The greatest increase in profits (date and amount) over the entire period\n",
    "date_increase = 10474\n",
    "max_increase = 1000\n",
    "print(f\"Greatest Increase in Profits: {date_increase} | {max_increase}\")\n",
    "\n",
    "\n",
    "# The greatest decrease in losses (date and amount) over the entire period\n",
    "date_decrease = 10474\n",
    "max_decrease = 100\n",
    "print(f\"Greatest Decrease in Profits: {date_decrease} | {max_decrease}\")\n",
    "\n"
   ]
  },
  {
   "cell_type": "code",
   "execution_count": null,
   "id": "d82bc196-9dfd-45cb-a859-a24a9644002c",
   "metadata": {
    "tags": []
   },
   "outputs": [],
   "source": []
  },
  {
   "cell_type": "code",
   "execution_count": 8,
   "id": "0e4340e9-af42-44c1-a1a6-2aedbc0ed1b6",
   "metadata": {},
   "outputs": [],
   "source": []
  },
  {
   "cell_type": "code",
   "execution_count": null,
   "id": "5e92f43c-4e0d-47d1-8dd5-cd2d0d7c29b3",
   "metadata": {},
   "outputs": [],
   "source": []
  }
 ],
 "metadata": {
  "kernelspec": {
   "display_name": "Python 3 (ipykernel)",
   "language": "python",
   "name": "python3"
  },
  "language_info": {
   "codemirror_mode": {
    "name": "ipython",
    "version": 3
   },
   "file_extension": ".py",
   "mimetype": "text/x-python",
   "name": "python",
   "nbconvert_exporter": "python",
   "pygments_lexer": "ipython3",
   "version": "3.9.12"
  }
 },
 "nbformat": 4,
 "nbformat_minor": 5
}
